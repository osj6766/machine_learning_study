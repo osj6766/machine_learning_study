{
 "cells": [
  {
   "cell_type": "code",
   "execution_count": 1,
   "id": "ee028525-9eca-4a3a-881b-0128eb0ba52e",
   "metadata": {},
   "outputs": [],
   "source": [
    "name = '홍길동'"
   ]
  },
  {
   "cell_type": "code",
   "execution_count": 2,
   "id": "20aadf5d-f018-4352-be35-e9b2050aa998",
   "metadata": {},
   "outputs": [
    {
     "data": {
      "text/plain": [
       "'나의 이름은 홍길동입니다. 나이는 30입니다.'"
      ]
     },
     "execution_count": 2,
     "metadata": {},
     "output_type": "execute_result"
    }
   ],
   "source": [
    "age = 30\n",
    "f'나의 이름은 {name}입니다. 나이는 {age}입니다.'"
   ]
  },
  {
   "cell_type": "code",
   "execution_count": 3,
   "id": "a231d082-f83d-4317-b0f5-322775961407",
   "metadata": {},
   "outputs": [],
   "source": [
    "y = 3.141592"
   ]
  },
  {
   "cell_type": "code",
   "execution_count": 4,
   "id": "196dc118-9df5-48fb-aba4-8a57ce53a334",
   "metadata": {},
   "outputs": [
    {
     "data": {
      "text/plain": [
       "'3.1416'"
      ]
     },
     "execution_count": 4,
     "metadata": {},
     "output_type": "execute_result"
    }
   ],
   "source": [
    "f'{y:0.4f}'"
   ]
  },
  {
   "cell_type": "code",
   "execution_count": 5,
   "id": "feb22f87-1e1d-4888-9c45-2e99a54bb13b",
   "metadata": {},
   "outputs": [
    {
     "data": {
      "text/plain": [
       "'             3.1416'"
      ]
     },
     "execution_count": 5,
     "metadata": {},
     "output_type": "execute_result"
    }
   ],
   "source": [
    "f'{y:19.4f}'"
   ]
  },
  {
   "cell_type": "code",
   "execution_count": null,
   "id": "53356643-d346-43da-a526-37cff016a6ee",
   "metadata": {},
   "outputs": [],
   "source": []
  }
 ],
 "metadata": {
  "kernelspec": {
   "display_name": "Python 3 (ipykernel)",
   "language": "python",
   "name": "python3"
  },
  "language_info": {
   "codemirror_mode": {
    "name": "ipython",
    "version": 3
   },
   "file_extension": ".py",
   "mimetype": "text/x-python",
   "name": "python",
   "nbconvert_exporter": "python",
   "pygments_lexer": "ipython3",
   "version": "3.10.18"
  }
 },
 "nbformat": 4,
 "nbformat_minor": 5
}
